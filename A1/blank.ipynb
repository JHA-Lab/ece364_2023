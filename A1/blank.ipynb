{
 "cells": [
  {
   "cell_type": "markdown",
   "metadata": {
    "id": "E32UBMT7VKMm"
   },
   "source": [
    "## Prepare python environment\n"
   ]
  },
  {
   "cell_type": "code",
   "execution_count": null,
   "metadata": {
    "executionInfo": {
     "elapsed": 1274,
     "status": "ok",
     "timestamp": 1626661179666,
     "user": {
      "displayName": "Sayeri Lala",
      "photoUrl": "",
      "userId": "13028116931964754599"
     },
     "user_tz": 420
    },
    "id": "y_lm7Q-9VKMn"
   },
   "outputs": [],
   "source": [
    "import pandas as pd\n",
    "import numpy as np\n",
    "import matplotlib.pyplot as plt\n",
    "import seaborn as sns\n",
    "from sklearn.preprocessing import StandardScaler\n",
    "from sklearn.model_selection import train_test_split\n",
    "\n",
    "import warnings\n",
    "warnings.filterwarnings('ignore')\n",
    "\n",
    "%matplotlib inline"
   ]
  },
  {
   "cell_type": "code",
   "execution_count": null,
   "metadata": {
    "colab": {
     "base_uri": "https://localhost:8080/"
    },
    "executionInfo": {
     "elapsed": 27888,
     "status": "ok",
     "timestamp": 1626661207550,
     "user": {
      "displayName": "Sayeri Lala",
      "photoUrl": "",
      "userId": "13028116931964754599"
     },
     "user_tz": 420
    },
    "id": "6AVVF0ZPMGPx",
    "outputId": "de15d4fa-4d68-4712-943c-625d49dcf24d"
   },
   "outputs": [],
   "source": [
    "# if running on colab, mount drive to load data, you will be prompted to enter an authorization code\n",
    "try:\n",
    "  import google.colab\n",
    "  google.colab.drive.mount('/content/drive') \n",
    "  IN_COLAB=True\n",
    "\n",
    "  proj_path=pass # TODO\n",
    "  # navigate to the directory containing the project (data and notebook)\n",
    "  import os\n",
    "  os.chdir(proj_path)\n",
    "except:\n",
    "  IN_COLAB=False"
   ]
  },
  {
   "cell_type": "code",
   "execution_count": null,
   "metadata": {
    "executionInfo": {
     "elapsed": 20,
     "status": "ok",
     "timestamp": 1626661207551,
     "user": {
      "displayName": "Sayeri Lala",
      "photoUrl": "",
      "userId": "13028116931964754599"
     },
     "user_tz": 420
    },
    "id": "ryOZJYQa3PG0"
   },
   "outputs": [],
   "source": [
    "random_state=5 # use this to control randomness across runs e.g., dataset partitioning"
   ]
  },
  {
   "cell_type": "markdown",
   "metadata": {
    "id": "BASGXrOy4wat"
   },
   "source": [
    "## Preparing the Statslog (Heart) Dataset (2 points)\n",
    "\n",
    "---\n",
    "\n",
    "\n",
    "We will use heart dataset from UCI machine learning repository. Details of this data can be found [here](https://archive.ics.uci.edu/ml/datasets/statlog+(heart)). \n",
    "The dataset contains the following features with their corresponding feature types:\n",
    "1. age in years (real)\n",
    "2. sex (binary; 1=male/0=female)\n",
    "3. cp: chest pain type (categorical)\n",
    "4. trestbps: resting blood pressure (in mm Hg on admission to the hospital) (real)\n",
    "5. chol: serum cholestorol in mg/dl (real)\n",
    "6. fbs: (fasting blood sugar > 120 mg/dl) (binary; 1=true/0=false)\n",
    "7. restecg: resting electrocardiographic results (categorical)\n",
    "8. thalach: maximum heart rate achieved (real)\n",
    "9. exang: exercise induced angina (1 = yes; 0 = no) (binary)\n",
    "10. oldpeak: ST depression induced by exercise relative to rest (real)\n",
    "11. slope: the slope of the peak exercise ST segment (ordinal)\n",
    "12. ca: number of major vessels colored by flourosopy (real)\n",
    "13. thal: 3 = normal; 6 = fixed defect; 7 = reversable defect. (categorical)\n",
    "\n",
    "The objective is to determine whether a person has heart disease or not based on these features.\n"
   ]
  },
  {
   "cell_type": "markdown",
   "metadata": {
    "id": "URgO9HCN6RCl"
   },
   "source": [
    "### Loading the dataset"
   ]
  },
  {
   "cell_type": "markdown",
   "metadata": {
    "id": "EpE-lW1u6dxJ"
   },
   "source": [
    "#### There are a total of 303 entries in this dataset. First 13 columns are features and the last column indicates whether the person has heart disease or not. \n",
    "#### Note: We will use a subset of the above features because the [scikit-learn implementation of Decision Trees does not support categorical variables](https://scikit-learn.org/stable/modules/tree.html#tree). "
   ]
  },
  {
   "cell_type": "code",
   "execution_count": null,
   "metadata": {
    "colab": {
     "base_uri": "https://localhost:8080/",
     "height": 204
    },
    "executionInfo": {
     "elapsed": 1296,
     "status": "ok",
     "timestamp": 1626661209123,
     "user": {
      "displayName": "Sayeri Lala",
      "photoUrl": "",
      "userId": "13028116931964754599"
     },
     "user_tz": 420
    },
    "id": "6Pyo8XV46UlI",
    "outputId": "e99ce2f7-cf7c-4a5d-9443-3d004bdee8f7"
   },
   "outputs": [],
   "source": [
    "# Load the dataset\n",
    "import os\n",
    "\n",
    "if not os.path.exists('heart.csv'): \n",
    "    !wget https://raw.githubusercontent.com/JHA-Lab/ece364_2023/master/dataset/heart.csv \n",
    "df = pd.read_csv('heart.csv')\n",
    "\n",
    "\n",
    "# keep real valued features and the target feature\n",
    "ind_non_categorical_features=np.array([0,3,4,7,9,11,-1])\n",
    "non_categorical_features=df.columns[ind_non_categorical_features]\n",
    "\n",
    "df=df[non_categorical_features]\n",
    "\n",
    "# Display the first five instances in the dataset\n",
    "df.head()"
   ]
  },
  {
   "cell_type": "markdown",
   "metadata": {
    "id": "IgKnqRBm6Wap"
   },
   "source": [
    "### Check the data type for each column"
   ]
  },
  {
   "cell_type": "code",
   "execution_count": null,
   "metadata": {
    "colab": {
     "base_uri": "https://localhost:8080/"
    },
    "executionInfo": {
     "elapsed": 32,
     "status": "ok",
     "timestamp": 1626661209131,
     "user": {
      "displayName": "Sayeri Lala",
      "photoUrl": "",
      "userId": "13028116931964754599"
     },
     "user_tz": 420
    },
    "id": "sWDsbF6U6ZLT",
    "outputId": "7e915d71-68ed-4b8d-9e9d-f35cf25abc5f"
   },
   "outputs": [],
   "source": [
    "df.info()"
   ]
  },
  {
   "cell_type": "markdown",
   "metadata": {
    "id": "KS7PzOS76hrv"
   },
   "source": [
    "#### Look at some statistics of the data using the `describe` function in pandas. See [here](https://pandas.pydata.org/pandas-docs/stable/reference/api/pandas.DataFrame.describe.html) for details about this function."
   ]
  },
  {
   "cell_type": "code",
   "execution_count": null,
   "metadata": {
    "colab": {
     "base_uri": "https://localhost:8080/",
     "height": 317
    },
    "executionInfo": {
     "elapsed": 35,
     "status": "ok",
     "timestamp": 1626661209138,
     "user": {
      "displayName": "Sayeri Lala",
      "photoUrl": "",
      "userId": "13028116931964754599"
     },
     "user_tz": 420
    },
    "id": "GlIARPVH6mIq",
    "outputId": "9dbf182e-bfb2-4705-89d0-838efb776381"
   },
   "outputs": [],
   "source": [
    "df.describe()"
   ]
  },
  {
   "cell_type": "markdown",
   "metadata": {
    "id": "WcVuFlvZ6oYT"
   },
   "source": [
    "1. Count tells us the number of Non-empty rows in a feature.\n",
    "\n",
    "2. Mean tells us the mean value of that feature.\n",
    "\n",
    "3. Std tells us the Standard Deviation Value of that feature.\n",
    "\n",
    "4. Min tells us the minimum value of that feature.\n",
    "\n",
    "5. 25%, 50%, and 75% are the percentile/quartile of each features.\n",
    "\n",
    "6. Max tells us the maximum value of that feature."
   ]
  },
  {
   "cell_type": "markdown",
   "metadata": {
    "id": "LT6ijHsr6tIc"
   },
   "source": [
    "#### Look at distribution of some features across the population. See [here](https://seaborn.pydata.org/generated/seaborn.distplot.html) for details. These have been done for you."
   ]
  },
  {
   "cell_type": "code",
   "execution_count": null,
   "metadata": {
    "colab": {
     "base_uri": "https://localhost:8080/",
     "height": 296
    },
    "executionInfo": {
     "elapsed": 348,
     "status": "ok",
     "timestamp": 1626661209455,
     "user": {
      "displayName": "Sayeri Lala",
      "photoUrl": "",
      "userId": "13028116931964754599"
     },
     "user_tz": 420
    },
    "id": "l70LaOwd6v9g",
    "outputId": "c82797d9-1216-4008-86fa-0b5ead8e2464"
   },
   "outputs": [],
   "source": [
    "sns.histplot(df['thalach'],bins=30,color='red',stat=\"density\",kde=True)"
   ]
  },
  {
   "cell_type": "code",
   "execution_count": null,
   "metadata": {
    "colab": {
     "base_uri": "https://localhost:8080/",
     "height": 296
    },
    "executionInfo": {
     "elapsed": 272,
     "status": "ok",
     "timestamp": 1626661209715,
     "user": {
      "displayName": "Sayeri Lala",
      "photoUrl": "",
      "userId": "13028116931964754599"
     },
     "user_tz": 420
    },
    "id": "wOMhQWw960bh",
    "outputId": "fc7ea000-42fe-4426-844f-1514017cdcd8"
   },
   "outputs": [],
   "source": [
    "sns.histplot(df['chol'],bins=30,color='green',stat='density',kde=True)"
   ]
  },
  {
   "cell_type": "code",
   "execution_count": null,
   "metadata": {
    "colab": {
     "base_uri": "https://localhost:8080/",
     "height": 296
    },
    "executionInfo": {
     "elapsed": 735,
     "status": "ok",
     "timestamp": 1626661210443,
     "user": {
      "displayName": "Sayeri Lala",
      "photoUrl": "",
      "userId": "13028116931964754599"
     },
     "user_tz": 420
    },
    "id": "35C5tgFu608o",
    "outputId": "868a889b-ca40-45cd-cfcb-f1731cceb2b8"
   },
   "outputs": [],
   "source": [
    "sns.histplot(df['trestbps'],bins=30,color='blue',stat='density',kde=True)"
   ]
  },
  {
   "cell_type": "markdown",
   "metadata": {
    "id": "lrT0m0GR644-"
   },
   "source": [
    "#### Plot histogram of heart disease with age. This has been done for you."
   ]
  },
  {
   "cell_type": "code",
   "execution_count": null,
   "metadata": {
    "colab": {
     "base_uri": "https://localhost:8080/",
     "height": 388
    },
    "executionInfo": {
     "elapsed": 563,
     "status": "ok",
     "timestamp": 1626661210988,
     "user": {
      "displayName": "Sayeri Lala",
      "photoUrl": "",
      "userId": "13028116931964754599"
     },
     "user_tz": 420
    },
    "id": "1vStvr9G7ZmM",
    "outputId": "df6f1fe3-901e-41de-e871-f221bc9aa5f7"
   },
   "outputs": [],
   "source": [
    "plt.figure(figsize=(15,6))\n",
    "df['target']=df['target'].astype(str)\n",
    "sns.countplot(x='age',data = df, hue = 'target',palette='coolwarm_r')\n",
    "plt.show()\n",
    "df['target']=df['target'].astype(int)"
   ]
  },
  {
   "cell_type": "markdown",
   "metadata": {
    "id": "FRhEcln77rIK"
   },
   "source": [
    "#### Extract target and descriptive features (1 points)"
   ]
  },
  {
   "cell_type": "code",
   "execution_count": null,
   "metadata": {
    "executionInfo": {
     "elapsed": 15,
     "status": "ok",
     "timestamp": 1626661210995,
     "user": {
      "displayName": "Sayeri Lala",
      "photoUrl": "",
      "userId": "13028116931964754599"
     },
     "user_tz": 420
    },
    "id": "blhp_Upk8E-Y"
   },
   "outputs": [],
   "source": [
    "# Store all the features from the data in X\n",
    "X= # TODO\n",
    "# Store all the labels in y\n",
    "y= # TODO"
   ]
  },
  {
   "cell_type": "code",
   "execution_count": null,
   "metadata": {
    "executionInfo": {
     "elapsed": 16,
     "status": "ok",
     "timestamp": 1626661210997,
     "user": {
      "displayName": "Sayeri Lala",
      "photoUrl": "",
      "userId": "13028116931964754599"
     },
     "user_tz": 420
    },
    "id": "gdUFK3qG8Gnk"
   },
   "outputs": [],
   "source": [
    "# Convert data to numpy array\n",
    "X = # TODO\n",
    "y = # TODO"
   ]
  },
  {
   "cell_type": "markdown",
   "metadata": {
    "id": "N-JPYSnc8JQi"
   },
   "source": [
    "#### Create training and test datasets (1 points)\n",
    "\n",
    "Split the data into training and test sets using `train_test_split`.  See [here](https://scikit-learn.org/stable/modules/generated/sklearn.model_selection.train_test_split.html) for details. To get consistent result while splitting, set `random_state` to the value defined earlier. We use 80% of the data for training and 20% of the data for testing. "
   ]
  },
  {
   "cell_type": "code",
   "execution_count": null,
   "metadata": {
    "executionInfo": {
     "elapsed": 34,
     "status": "ok",
     "timestamp": 1626661211294,
     "user": {
      "displayName": "Sayeri Lala",
      "photoUrl": "",
      "userId": "13028116931964754599"
     },
     "user_tz": 420
    },
    "id": "BzTzI3iT8R5x"
   },
   "outputs": [],
   "source": [
    "X_train,X_test,y_train,y_test = # TODO"
   ]
  },
  {
   "cell_type": "markdown",
   "metadata": {},
   "source": [
    "## Training Decision Tree-based Classifiers (18 points)\n"
   ]
  },
  {
   "cell_type": "markdown",
   "metadata": {},
   "source": [
    "### Exercise 1: Learning a Decision Tree (10 points)\n",
    "\n",
    "#### We will use the `sklearn` library to train a Decision Tree classifier. Review ch.4 and see [here](https://scikit-learn.org/stable/modules/generated/sklearn.tree.DecisionTreeClassifier.html) for more details. "
   ]
  },
  {
   "cell_type": "code",
   "execution_count": null,
   "metadata": {},
   "outputs": [],
   "source": [
    "from sklearn.tree import DecisionTreeClassifier\n",
    "from sklearn.metrics import accuracy_score"
   ]
  },
  {
   "cell_type": "code",
   "execution_count": null,
   "metadata": {},
   "outputs": [],
   "source": [
    "# tree visualization helper function \n",
    "from sklearn.tree import export_graphviz\n",
    "from six import StringIO  \n",
    "from IPython.display import Image  \n",
    "import pydotplus\n",
    "\n",
    "\"\"\"\n",
    "clf: DecisionTreeClassifier\n",
    "\n",
    "Returns a bytes object representing the image of the tree \n",
    "\"\"\"\n",
    "def get_tree_image(clf):\n",
    "    dot_data = StringIO()\n",
    "    feature_names=df.drop('target',axis=1).columns\n",
    "    class_names=[\"No heart disease\", \"Has heart disease\"]\n",
    "    export_graphviz(clf, out_file=dot_data,  \n",
    "                    filled=True, rounded=True,\n",
    "                    special_characters=True,\n",
    "                    feature_names=feature_names, \n",
    "                    class_names=class_names)\n",
    "    graph = pydotplus.graph_from_dot_data(dot_data.getvalue())\n",
    "    \n",
    "\n",
    "    return graph.create_png()"
   ]
  },
  {
   "cell_type": "markdown",
   "metadata": {},
   "source": [
    "#### Exercise 1a: Fit and interpret a decision tree. (6 points)\n",
    "\n",
    "#### Fit Decision trees using the Gini index and entropy-based impurity measure. \n",
    "\n",
    "#### Set the random_state to the value defined above. Keep all other parameters at their default values. \n",
    "\n",
    "#### Report the training and test set accuracies for each classifier."
   ]
  },
  {
   "cell_type": "code",
   "execution_count": null,
   "metadata": {},
   "outputs": [],
   "source": [
    "# TODO"
   ]
  },
  {
   "cell_type": "markdown",
   "metadata": {},
   "source": [
    "#### Visualize the Decision Tree with the best test performance."
   ]
  },
  {
   "cell_type": "code",
   "execution_count": null,
   "metadata": {},
   "outputs": [],
   "source": [
    "best_clf=# TODO\n",
    "tree_image=get_tree_image(best_clf)\n",
    "Image(tree_image)"
   ]
  },
  {
   "cell_type": "markdown",
   "metadata": {},
   "source": [
    "#### Indicate the most informative descriptive feature (with the threshold) and briefly explain why this is the most informative (from an algorithmic viewpoint). "
   ]
  },
  {
   "cell_type": "markdown",
   "metadata": {},
   "source": [
    "TO DO"
   ]
  },
  {
   "cell_type": "markdown",
   "metadata": {},
   "source": [
    "#### Briefly comment on the tree's depth and what factors may contribute to the shallowness/complexity of the tree. \n"
   ]
  },
  {
   "cell_type": "markdown",
   "metadata": {},
   "source": [
    "TO DO"
   ]
  },
  {
   "cell_type": "markdown",
   "metadata": {},
   "source": [
    "#### Show how one can interpret the tree by specifying the rule from its left most branch. "
   ]
  },
  {
   "cell_type": "markdown",
   "metadata": {},
   "source": [
    "TO DO"
   ]
  },
  {
   "cell_type": "markdown",
   "metadata": {},
   "source": [
    "#### Exercise 1b: Prune a decision tree. (4 points)\n",
    "\n",
    "#### Next, let's try pruning the tree to see if we can improve the classifier's generalization performance.\n",
    "\n",
    "####  Preprune a decision tree by varying the `max_depth` among {None (no depth control), 1,3,5,7}.\n",
    "\n",
    "#### Set the criterion to entropy and the random_state to the value defined above. Keep all other parameters at their default values. \n",
    "\n",
    "#### Report the training and test set accuracies for each classifier."
   ]
  },
  {
   "cell_type": "code",
   "execution_count": null,
   "metadata": {},
   "outputs": [],
   "source": [
    "# TODO "
   ]
  },
  {
   "cell_type": "markdown",
   "metadata": {},
   "source": [
    "#### Analyze the effect of increasing tree depth on training and test performance."
   ]
  },
  {
   "cell_type": "markdown",
   "metadata": {},
   "source": [
    "TO DO"
   ]
  },
  {
   "cell_type": "markdown",
   "metadata": {},
   "source": [
    "### Exercise 2: Learning an Ensemble of Decision Trees (8 points)\n",
    "\n",
    "#### We will use the `sklearn` library to implement bagging and boosting. Review ch.4 and read more on [bagging](https://scikit-learn.org/stable/modules/generated/sklearn.ensemble.RandomForestClassifier.html) and [boosting](https://scikit-learn.org/stable/modules/generated/sklearn.ensemble.GradientBoostingClassifier.html). "
   ]
  },
  {
   "cell_type": "code",
   "execution_count": null,
   "metadata": {},
   "outputs": [],
   "source": [
    "from sklearn.ensemble import RandomForestClassifier\n",
    "from sklearn.ensemble import GradientBoostingClassifier"
   ]
  },
  {
   "cell_type": "markdown",
   "metadata": {},
   "source": [
    "#### Exercise 2a: Fit a Random Forest. (4 points)\n",
    "\n",
    "#### Fit different Random Forest classifiers by varying the number of trees among {10, 100, 500,1000}. \n",
    "\n",
    "#### Set the `criterion` to entropy and set the random_state to the value defined above. Keep all other parameters at their default values. \n",
    "\n",
    "#### Report the test set accuracies for each classifier."
   ]
  },
  {
   "cell_type": "code",
   "execution_count": null,
   "metadata": {},
   "outputs": [],
   "source": [
    "# TODO"
   ]
  },
  {
   "cell_type": "markdown",
   "metadata": {},
   "source": [
    "#### Comment on the effect of increasing the number of trees on test performance. Compare the performance of the best performing Random Forest classifier against the Decision Tree Classifier trained with entropy (Ex. 1a) and explain any difference. "
   ]
  },
  {
   "cell_type": "markdown",
   "metadata": {},
   "source": [
    "TO DO"
   ]
  },
  {
   "cell_type": "markdown",
   "metadata": {},
   "source": [
    "#### Exercise 2b: Fit a Gradient Boosted Decision Tree (GBDT). (4 points)\n",
    "\n",
    "#### Fit different GBDTs by varying the number of boosting steps/trees added among {5,50,100,200}. \n",
    "\n",
    "#### Set the `n_iter_no_change` to 100, `validation_fraction=0.2`, and random_state to the value defined above. Keep all other parameters at their default values. \n",
    "\n",
    "#### Report the training and test set accuracies for each classifier."
   ]
  },
  {
   "cell_type": "code",
   "execution_count": null,
   "metadata": {},
   "outputs": [],
   "source": [
    "# TODO"
   ]
  },
  {
   "cell_type": "markdown",
   "metadata": {},
   "source": [
    "#### Comment on the effect of increasing the number of trees on test performance. Compare the performance of the best performing GBDT against that of the best performing Random Forest classifier (Ex. 2a) and Decision Tree classifier trained with entropy (Ex. 1a). "
   ]
  },
  {
   "cell_type": "markdown",
   "metadata": {},
   "source": [
    "TO DO"
   ]
  },
  {
   "cell_type": "code",
   "execution_count": null,
   "metadata": {},
   "outputs": [],
   "source": []
  }
 ],
 "metadata": {
  "colab": {
   "collapsed_sections": [],
   "name": "solution.ipynb",
   "provenance": []
  },
  "kernelspec": {
   "display_name": "Python 3 (ipykernel)",
   "language": "python",
   "name": "python3"
  },
  "language_info": {
   "codemirror_mode": {
    "name": "ipython",
    "version": 3
   },
   "file_extension": ".py",
   "mimetype": "text/x-python",
   "name": "python",
   "nbconvert_exporter": "python",
   "pygments_lexer": "ipython3",
   "version": "3.11.5"
  },
  "nav_menu": {
   "height": "309px",
   "width": "468px"
  },
  "toc": {
   "navigate_menu": true,
   "number_sections": true,
   "sideBar": true,
   "threshold": 6,
   "toc_cell": false,
   "toc_section_display": "block",
   "toc_window_display": false
  }
 },
 "nbformat": 4,
 "nbformat_minor": 1
}
